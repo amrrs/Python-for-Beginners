{
 "cells": [
  {
   "cell_type": "markdown",
   "metadata": {},
   "source": [
    "## Python for Beginners Part IV: You Have Arrived! \n",
    "*This is Part 4 in a series (n=?).* Part I: Getting Started is *__[here](http://url)__*"
   ]
  },
  {
   "cell_type": "markdown",
   "metadata": {},
   "source": [
    "### First Things First: What You're Looking at Right Now\n",
    "A Jupyter Notebook is a tool that lets you see the code you're typing and the results it generates, all in one place. Like this: "
   ]
  },
  {
   "cell_type": "code",
   "execution_count": 6,
   "metadata": {},
   "outputs": [
    {
     "data": {
      "text/plain": [
       "5"
      ]
     },
     "execution_count": 6,
     "metadata": {},
     "output_type": "execute_result"
    }
   ],
   "source": [
    "2+3"
   ]
  },
  {
   "cell_type": "markdown",
   "metadata": {},
   "source": [
    "There are two basic kinds of input into a Jupyter Notebook: \n",
    "* **Markdown**, which is what you see here; and \n",
    "* **Code**, which looks something like this: "
   ]
  },
  {
   "cell_type": "code",
   "execution_count": 5,
   "metadata": {},
   "outputs": [
    {
     "name": "stdout",
     "output_type": "stream",
     "text": [
      "5\n"
     ]
    }
   ],
   "source": [
    "ans = 2+3\n",
    "print(ans)"
   ]
  },
  {
   "cell_type": "markdown",
   "metadata": {},
   "source": [
    "Take a second to click around a little bit. If you double-click on one of the Markdown cells above, you'll start to see the syntax (or _grammar_) that Jupyter Notebooks use. Mess with it some; it's highly unlikely that you'll break anything (yet). \n",
    "\n",
    "If you double-click on one of the Code cells above, you'll see that you can edit those, too. Change the numbers in the cell that says \"2+3\" and then hit shift+return. Did it give you a different answer? I really hope so, otherwise I _really_ misunderstood how these things work. \n",
    "\n",
    "Anyway, if you're still in that Code cell, you'll also see in the toolbar that there is a little dropbown menu that now says _Code_ instead of _Markdown_. That's important: When you want to add a new cell, you have to choose what kind of cell you're adding. \n",
    "\n",
    "Enough for tonight. Play around yourself, or wait with bated breath for Part V! "
   ]
  },
  {
   "cell_type": "markdown",
   "metadata": {},
   "source": []
  }
 ],
 "metadata": {
  "kernelspec": {
   "display_name": "Python 3",
   "language": "python",
   "name": "python3"
  },
  "language_info": {
   "codemirror_mode": {
    "name": "ipython",
    "version": 3
   },
   "file_extension": ".py",
   "mimetype": "text/x-python",
   "name": "python",
   "nbconvert_exporter": "python",
   "pygments_lexer": "ipython3",
   "version": "3.7.1"
  }
 },
 "nbformat": 4,
 "nbformat_minor": 2
}
